{
 "cells": [
  {
   "cell_type": "markdown",
   "metadata": {},
   "source": [
    "CONVERTING GPS TIME INTO UTC TIME COORDINATES"
   ]
  },
  {
   "cell_type": "code",
   "execution_count": null,
   "metadata": {},
   "outputs": [],
   "source": [
    "import pandas as pd"
   ]
  },
  {
   "cell_type": "code",
   "execution_count": 3,
   "metadata": {},
   "outputs": [],
   "source": [
    "import astropy"
   ]
  },
  {
   "cell_type": "code",
   "execution_count": 4,
   "metadata": {},
   "outputs": [],
   "source": [
    "from astropy.time import Time"
   ]
  },
  {
   "cell_type": "code",
   "execution_count": 5,
   "metadata": {},
   "outputs": [],
   "source": [
    "import numpy as np"
   ]
  },
  {
   "cell_type": "code",
   "execution_count": null,
   "metadata": {},
   "outputs": [],
   "source": [
    "import datetime"
   ]
  },
  {
   "cell_type": "code",
   "execution_count": null,
   "metadata": {},
   "outputs": [],
   "source": [
    "import time\n",
    "import gpxpy\n",
    "import pandas as pd\n",
    "import numpy as np\n",
    "from geopy.distance import geodesic\n",
    "import matplotlib.pyplot as plt"
   ]
  },
  {
   "cell_type": "code",
   "execution_count": 23,
   "metadata": {},
   "outputs": [
    {
     "name": "stdout",
     "output_type": "stream",
     "text": [
      "Aug 22 2009 08:42:49\n"
     ]
    }
   ],
   "source": [
    "gps = 1250930569"
   ]
  },
  {
   "cell_type": "code",
   "execution_count": null,
   "metadata": {},
   "outputs": [],
   "source": [
    "print(time.strftime(\"%b %d %Y %H:%M:%S\", time.gmtime(gps)))"
   ]
  },
  {
   "cell_type": "code",
   "execution_count": 27,
   "metadata": {},
   "outputs": [
    {
     "name": "stdout",
     "output_type": "stream",
     "text": [
      "            0          1          2\n",
      "0  1250930569  10.824126  55.303786\n",
      "1  1250930570  10.824083  55.303800\n",
      "2  1250930570  10.824040  55.303815\n",
      "3  1250930570  10.823997  55.303830\n",
      "4  1250930570  10.823957  55.303843\n"
     ]
    }
   ],
   "source": [
    "df = pd.read_csv(\"gpstime and location.csv\", skiprows = 1,header = None)\n",
    "print(df.head(5))"
   ]
  },
  {
   "cell_type": "code",
   "execution_count": 1,
   "metadata": {},
   "outputs": [],
   "source": [
    "import open3d as o3d\n",
    "from pyntcloud import PyntCloud"
   ]
  },
  {
   "cell_type": "code",
   "execution_count": null,
   "metadata": {},
   "outputs": [],
   "source": [
    "cloud = PyntCloud.from_file(\"some_file.ply\")\n",
    "cloud.add_scalar_field(\"hsv\")\n",
    "voxelgrid_id = cloud.add_structure(\"voxelgrid\", n_x=32, n_y=32, n_z=32)\n",
    "new_cloud = cloud.get_sample(\"voxelgrid_nearest\", voxelgrid_id=voxelgrid_id, as_PyntCloud=True)\n",
    "new_cloud.to_file(\"out_file.npz\")"
   ]
  },
  {
   "cell_type": "code",
   "execution_count": 14,
   "metadata": {},
   "outputs": [],
   "source": [
    "import numpy as np\n",
    "from laspy.file import File\n",
    "inFile = File(\"20190827_013000_3_32.900-33.000.las\", mode = \"r\")"
   ]
  },
  {
   "cell_type": "code",
   "execution_count": 15,
   "metadata": {},
   "outputs": [],
   "source": [
    "point_records = inFile.points"
   ]
  },
  {
   "cell_type": "code",
   "execution_count": 16,
   "metadata": {},
   "outputs": [],
   "source": [
    "def scaled_x_dimension(las_file):\n",
    "    x_dimension = las_file.X\n",
    "    scale = las_file.header.scale[0]\n",
    "    offset = las_file.header.offset[0]\n",
    "    return(x_dimension*scale + offset)"
   ]
  },
  {
   "cell_type": "code",
   "execution_count": 17,
   "metadata": {},
   "outputs": [],
   "source": [
    "scaled_x = scaled_x_dimension(inFile)\n"
   ]
  },
  {
   "cell_type": "code",
   "execution_count": 5,
   "metadata": {},
   "outputs": [
    {
     "name": "stdout",
     "output_type": "stream",
     "text": [
      "X\n",
      "Y\n",
      "Z\n",
      "intensity\n",
      "flag_byte\n",
      "raw_classification\n",
      "scan_angle_rank\n",
      "user_data\n",
      "pt_src_id\n",
      "gps_time\n",
      "red\n",
      "green\n",
      "blue\n"
     ]
    }
   ],
   "source": [
    "pointformat = inFile.point_format\n",
    "for spec in inFile.point_format:\n",
    "    print(spec.name)"
   ]
  },
  {
   "cell_type": "code",
   "execution_count": 6,
   "metadata": {},
   "outputs": [],
   "source": [
    "#Like XML or etree objects instead?\n",
    "a_mess_of_xml = pointformat.xml()\n",
    "an_etree_object = pointformat.etree()"
   ]
  },
  {
   "cell_type": "code",
   "execution_count": 7,
   "metadata": {},
   "outputs": [],
   "source": [
    "#It looks like we have color data in this file, so we can grab:\n",
    "blue = inFile.blue"
   ]
  },
  {
   "cell_type": "code",
   "execution_count": 8,
   "metadata": {},
   "outputs": [
    {
     "name": "stdout",
     "output_type": "stream",
     "text": [
      "file_sig\n",
      "file_source_id\n",
      "global_encoding\n",
      "proj_id_1\n",
      "proj_id_2\n",
      "proj_id_3\n",
      "proj_id_4\n",
      "version_major\n",
      "version_minor\n",
      "system_id\n",
      "software_id\n",
      "created_day\n",
      "created_year\n",
      "header_size\n",
      "data_offset\n",
      "num_variable_len_recs\n",
      "data_format_id\n",
      "data_record_length\n",
      "point_records_count\n",
      "point_return_count\n",
      "x_scale\n",
      "y_scale\n",
      "z_scale\n",
      "x_offset\n",
      "y_offset\n",
      "z_offset\n",
      "x_max\n",
      "x_min\n",
      "y_max\n",
      "y_min\n",
      "z_max\n",
      "z_min\n"
     ]
    }
   ],
   "source": [
    "#Lets take a look at the header also.\n",
    "headerformat = inFile.header.header_format\n",
    "for spec in headerformat:\n",
    "    print(spec.name)"
   ]
  },
  {
   "cell_type": "code",
   "execution_count": 9,
   "metadata": {},
   "outputs": [],
   "source": [
    "dataset = np.vstack([inFile.X, inFile.Y, inFile.Z]).transpose()"
   ]
  },
  {
   "cell_type": "code",
   "execution_count": null,
   "metadata": {},
   "outputs": [],
   "source": [
    "# Build the KD Tree\n",
    "tree = KDTree(data)\n",
    "# This should do the same as the FLANN example above, though it might\n",
    "# be a little slower.\n",
    "tree.query(dataset[100,], k = 5)"
   ]
  },
  {
   "cell_type": "code",
   "execution_count": null,
   "metadata": {},
   "outputs": [],
   "source": []
  }
 ],
 "metadata": {
  "kernelspec": {
   "display_name": "Python 3",
   "language": "python",
   "name": "python3"
  },
  "language_info": {
   "codemirror_mode": {
    "name": "ipython",
    "version": 3
   },
   "file_extension": ".py",
   "mimetype": "text/x-python",
   "name": "python",
   "nbconvert_exporter": "python",
   "pygments_lexer": "ipython3",
   "version": "3.7.3"
  }
 },
 "nbformat": 4,
 "nbformat_minor": 2
}
