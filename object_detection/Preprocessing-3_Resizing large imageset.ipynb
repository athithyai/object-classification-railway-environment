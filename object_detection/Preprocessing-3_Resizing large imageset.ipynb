{
 "cells": [
  {
   "cell_type": "code",
   "execution_count": 1,
   "metadata": {},
   "outputs": [
    {
     "name": "stdout",
     "output_type": "stream",
     "text": [
      "total images number =  199 current image number =  0\n",
      "total images number =  199 current image number =  100\n"
     ]
    }
   ],
   "source": [
    "import os\n",
    "import cv2\n",
    "\n",
    "def center_crop(img_array, crop_size=-1, resize=-1, write_path=None):\n",
    "\t\"\"\" crop and resize a square image from the centeral area.\n",
    "\tArgs:\n",
    "\t\timg_array: image array\n",
    "\t\tcrop_size: crop_size (default: -1, min(height, width)).\n",
    "\t\tresize: resized size (default: -1, keep cropped size)\n",
    "\t\twrite_path: write path of the image (default: None, do not write to the disk).\n",
    "\tReturn:\n",
    "\t\timg_crop: copped and resized image.\n",
    "\t\"\"\"\n",
    "\trows = img_array.shape[0]\n",
    "\tcols = img_array.shape[1]\n",
    "\n",
    "\tif crop_size==-1 or crop_size>max(rows,cols):\n",
    "\t\tcrop_size = min(rows, cols)\n",
    "\trow_s = max(int((rows-crop_size)/2), 0)\n",
    "\trow_e = min(row_s+crop_size, rows) \n",
    "\tcol_s = max(int((cols-crop_size)/2), 0)\n",
    "\tcol_e = min(col_s+crop_size, cols)\n",
    "\n",
    "\timg_crop = img_array[row_s:row_e,col_s:col_e,]\n",
    "\n",
    "\tif resize>0:\n",
    "\t\timg_crop = cv2.resize(img_crop, (resize, resize))\n",
    "\n",
    "\tif write_path is not None:\n",
    "\t\tcv2.imwrite(write_path, img_crop)\n",
    "\treturn img_crop \n",
    "\n",
    "\n",
    "def crop_img_dir(img_dir,  save_dir, crop_method = \"center\", rename_pre=-1):\n",
    "\t\"\"\" crop and save square images from original images saved in img_dir.\n",
    "\tArgs:\n",
    "\t\timg_dir: image directory.\n",
    "\t\tsave_dir: save directory.\n",
    "\t\tcrop_method: crop method (default: \"center\").\n",
    "\t\trename_pre: prename of all images (default: -1, use primary image name).\n",
    "\tReturn: none\n",
    "\t\"\"\"\n",
    "\timg_names = os.listdir(img_dir)\n",
    "\timg_names = [img_name for img_name in img_names if img_name.split(\".\")[-1]==\"jpg\"]\n",
    "\tindex = 0\n",
    "\tfor img_name in img_names:\n",
    "\t\timg = cv2.imread(os.path.join(img_dir, img_name))\n",
    "\n",
    "\t\trename = img_name if rename_pre==-1 else rename_pre+str(index)+\".jpg\"\n",
    "\t\timg_out_path = os.path.join(save_dir, rename)\n",
    "\n",
    "\t\tif crop_method == \"center\":\n",
    "\t\t\timg_crop = center_crop(img, resize=64, write_path=img_out_path)\n",
    "\n",
    "\t\tif index%100 == 0:\n",
    "\t\t\tprint (\"total images number = \", len(img_names), \"current image number = \", index)\n",
    "\t\tindex += 1\n",
    "\t\t\n",
    "\n",
    "\n",
    "\n",
    "if __name__ == \"__main__\":\n",
    "\timg_dir = \"Image source directory\"\n",
    "\tsave_dir = \"Image targer directory\"\n",
    "\tcrop_img_dir(img_dir, save_dir, rename_pre=-1)"
   ]
  },
  {
   "cell_type": "code",
   "execution_count": null,
   "metadata": {},
   "outputs": [],
   "source": []
  }
 ],
 "metadata": {
  "kernelspec": {
   "display_name": "Python 3",
   "language": "python",
   "name": "python3"
  },
  "language_info": {
   "codemirror_mode": {
    "name": "ipython",
    "version": 3
   },
   "file_extension": ".py",
   "mimetype": "text/x-python",
   "name": "python",
   "nbconvert_exporter": "python",
   "pygments_lexer": "ipython3",
   "version": "3.7.3"
  }
 },
 "nbformat": 4,
 "nbformat_minor": 2
}
