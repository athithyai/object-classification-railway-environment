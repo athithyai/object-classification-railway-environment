{
 "cells": [
  {
   "cell_type": "code",
   "execution_count": null,
   "metadata": {},
   "outputs": [],
   "source": [
    "from xml.dom.minidom import Document\n",
    "import os\n",
    "import cv2\n",
    "\n",
    "def write_img_to_xml(imgfile, xmlfile):\n",
    "\t\"\"\"\n",
    "\twrite xml file.\n",
    "\tArgs:\n",
    "\t\timgfile: image file.\n",
    "\t\txmlfile: output xml file.\n",
    "\t\"\"\"\n",
    "\timg = cv2.imread(imgfile)\n",
    "\timg_folder, img_name = os.path.split(imgfile)\n",
    "\timg_height, img_width, img_depth = img.shape\n",
    "\tdoc = Document()\n",
    "\n",
    "\tannotation = doc.createElement(\"annotation\")\n",
    "\tdoc.appendChild(annotation)\n",
    "\n",
    "\tfolder = doc.createElement(\"folder\")\n",
    "\tfolder.appendChild(doc.createTextNode(img_folder))\n",
    "\tannotation.appendChild(folder)\n",
    "\n",
    "\tfilename = doc.createElement(\"filename\")\n",
    "\tfilename.appendChild(doc.createTextNode(img_name))\n",
    "\tannotation.appendChild(filename)\n",
    "\n",
    "\tsize = doc.createElement(\"size\")\n",
    "\tannotation.appendChild(size)\n",
    "\n",
    "\twidth = doc.createElement(\"width\")\n",
    "\twidth.appendChild(doc.createTextNode(str(img_width)))\n",
    "\tsize.appendChild(width)\n",
    "\n",
    "\theight = doc.createElement(\"height\")\n",
    "\theight.appendChild(doc.createTextNode(str(img_height)))\n",
    "\tsize.appendChild(height)\n",
    "\n",
    "\tdepth = doc.createElement(\"depth\")\n",
    "\tdepth.appendChild(doc.createTextNode(str(img_depth)))\n",
    "\tsize.appendChild(depth)\n",
    "\n",
    "\twith open(xmlfile, \"w\") as f:\n",
    "\t\tdoc.writexml(f, indent=\"\\t\", addindent=\"\\t\", newl=\"\\n\", encoding=\"utf-8\")\n",
    "\n",
    "\n",
    "def write_imgs_to_xmls(imgdir, xmldir):\n",
    "\timg_names = os.listdir(imgdir)\n",
    "\tfor img_name in img_names:\n",
    "\t\timg_file = os.path.join(imgdir,img_name)\n",
    "\t\txml_file = os.path.join(xmldir, img_name.split(\".\")[0]+\".xml\")\n",
    "\t\tprint (img_name, \"has been written to xml file in \", xml_file )\n",
    "\t\twrite_img_to_xml(img_file, xml_file)\n",
    "\n",
    "if __name__ == \"__main__\":\n",
    "\timg_folder = \"image folder\" # modify the image folder.\n",
    "\txml_folder = \"xml folder\" # directory of negative xml files.\n",
    "\twrite_imgs_to_xmls(img_folder, xml_folder)"
   ]
  },
  {
   "cell_type": "code",
   "execution_count": null,
   "metadata": {},
   "outputs": [],
   "source": []
  }
 ],
 "metadata": {
  "kernelspec": {
   "display_name": "Python 3",
   "language": "python",
   "name": "python3"
  },
  "language_info": {
   "codemirror_mode": {
    "name": "ipython",
    "version": 3
   },
   "file_extension": ".py",
   "mimetype": "text/x-python",
   "name": "python",
   "nbconvert_exporter": "python",
   "pygments_lexer": "ipython3",
   "version": "3.7.3"
  }
 },
 "nbformat": 4,
 "nbformat_minor": 2
}
