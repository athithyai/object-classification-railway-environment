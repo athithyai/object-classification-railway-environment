{
 "cells": [
  {
   "cell_type": "code",
   "execution_count": 2,
   "metadata": {},
   "outputs": [
    {
     "name": "stdout",
     "output_type": "stream",
     "text": [
      "3.4.4\n"
     ]
    }
   ],
   "source": [
    "# video to images for every frame\n",
    "import cv2\n",
    "\n",
    "print(cv2.__version__)\n",
    "vidcap = cv2.VideoCapture('video path.mp4')\n",
    "success,image = vidcap.read()\n",
    "count = 0\n",
    "success = True\n",
    "while success:\n",
    "  cv2.imwrite(\"frame%d.jpg\" % count, image)     # save frame as JPEG file\n",
    "  success,image = vidcap.read()\n",
    "  #print 'Read a new frame: ', success\n",
    "  count += 1"
   ]
  },
  {
   "cell_type": "code",
   "execution_count": 9,
   "metadata": {},
   "outputs": [],
   "source": [
    "#Extracting a single POV from the images \n",
    "import os\n",
    "import glob\n",
    "from PIL import Image\n",
    "\n",
    "#the extact pixel co-ordinates of the POV\n",
    "y=0\n",
    "x=0\n",
    "h=128\n",
    "w=128\n",
    "count = 0\n",
    "\n",
    "r = os.listdir(r'read all images directory')\n",
    "\n",
    "for file in glob.glob(os.path.join('image directory', '*.jpg')):\n",
    "        f = Image.open(file)\n",
    "        cropped = f.crop((x,y,h,w))\n",
    "        filename = \"output_file_%d.jpg\" % count\n",
    "        cropped.save(filename)\n",
    "        count+=1"
   ]
  },
  {
   "cell_type": "code",
   "execution_count": null,
   "metadata": {},
   "outputs": [],
   "source": []
  },
  {
   "cell_type": "code",
   "execution_count": null,
   "metadata": {},
   "outputs": [],
   "source": []
  }
 ],
 "metadata": {
  "kernelspec": {
   "display_name": "Python 3",
   "language": "python",
   "name": "python3"
  },
  "language_info": {
   "codemirror_mode": {
    "name": "ipython",
    "version": 3
   },
   "file_extension": ".py",
   "mimetype": "text/x-python",
   "name": "python",
   "nbconvert_exporter": "python",
   "pygments_lexer": "ipython3",
   "version": "3.7.3"
  }
 },
 "nbformat": 4,
 "nbformat_minor": 2
}
