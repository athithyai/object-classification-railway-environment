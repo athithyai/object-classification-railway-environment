{
 "cells": [
  {
   "cell_type": "code",
   "execution_count": 1,
   "metadata": {},
   "outputs": [],
   "source": [
    "pascalDirectory = \"pascal directory\"\n",
    "imageDirectory = \"image directory\"\n",
    "saveDirectory = \"save directory\""
   ]
  },
  {
   "cell_type": "code",
   "execution_count": 2,
   "metadata": {},
   "outputs": [],
   "source": [
    "import pascalvoc_to_image as pd"
   ]
  },
  {
   "cell_type": "code",
   "execution_count": null,
   "metadata": {},
   "outputs": [],
   "source": [
    "--pascalDirectory \"pascal directory\" --imageDirectory \"image directory\" --saveDirectory \"save directory\""
   ]
  },
  {
   "cell_type": "code",
   "execution_count": 5,
   "metadata": {},
   "outputs": [
    {
     "name": "stderr",
     "output_type": "stream",
     "text": [
      "100%|██████████| 361/361 [00:00<00:00, 120648.90it/s]\n",
      "Parsing pascal files: 100%|##########| 361/361 [00:00<00:00, 5935.17it/s]\n",
      "Creating label directories: 100%|##########| 3/3 [00:00<00:00, 18.94it/s]\n",
      "Creating images from pascal data: 100%|##########| 368/368 [00:06<00:00, 59.10it/s]\n"
     ]
    }
   ],
   "source": [
    "pd.run(pascalDirectory,imageDirectory,saveDirectory)"
   ]
  },
  {
   "cell_type": "code",
   "execution_count": null,
   "metadata": {},
   "outputs": [],
   "source": []
  }
 ],
 "metadata": {
  "kernelspec": {
   "display_name": "Python 3",
   "language": "python",
   "name": "python3"
  },
  "language_info": {
   "codemirror_mode": {
    "name": "ipython",
    "version": 3
   },
   "file_extension": ".py",
   "mimetype": "text/x-python",
   "name": "python",
   "nbconvert_exporter": "python",
   "pygments_lexer": "ipython3",
   "version": "3.7.3"
  }
 },
 "nbformat": 4,
 "nbformat_minor": 2
}
